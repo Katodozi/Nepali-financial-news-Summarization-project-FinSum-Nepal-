{
 "cells": [
  {
   "cell_type": "code",
   "execution_count": 1,
   "id": "d9bce3f3-5cbb-4712-ab6d-dcf68b56260d",
   "metadata": {},
   "outputs": [],
   "source": [
    "import pandas as pd "
   ]
  },
  {
   "cell_type": "code",
   "execution_count": 2,
   "id": "a53d59fc-c7b1-4d58-9690-559132a4a1b0",
   "metadata": {},
   "outputs": [],
   "source": [
    "#let's use panda to further clean the data to be safe\n",
    "df = pd.read_csv('C:/Users/Anuz/OneDrive/Desktop/excel work/The_final_ready_Nepali_financial_data_csv.csv')\n",
    "df = df.drop_duplicates(subset='Concatenated Paragraphs')"
   ]
  },
  {
   "cell_type": "code",
   "execution_count": 3,
   "id": "4637ec5c-6a6c-414f-8844-924a3103260b",
   "metadata": {},
   "outputs": [],
   "source": [
    "#handling missing values\n",
    "missing_values = df.isnull().sum()\n",
    "df = df.dropna(subset=['Concatenated Paragraphs'])"
   ]
  },
  {
   "cell_type": "code",
   "execution_count": 4,
   "id": "67b81fd2-afcf-4445-90fd-1897c87da319",
   "metadata": {},
   "outputs": [],
   "source": [
    "df = df[['Concatenated Paragraphs']]"
   ]
  },
  {
   "cell_type": "code",
   "execution_count": 5,
   "id": "18bf3156-470f-4721-8060-1744a634b357",
   "metadata": {},
   "outputs": [],
   "source": [
    "#since i suspect there are some rows in the dataset table which contains repeated sentences so \n",
    "#eliminating those rows \n",
    "def has_repeated_sentences(text):\n",
    "    sentences = text.split('।')\n",
    "    #checking for duplicates\n",
    "    return len(sentences) != len(set(sentences))\n",
    "    #removing those rows\n",
    "    df[~df['Concatenated Paragraphs'].apply(has_repeated_sentences)]"
   ]
  },
  {
   "cell_type": "code",
   "execution_count": 6,
   "id": "741a8e6b-ce57-4f02-b5ca-d47b38a2f40d",
   "metadata": {},
   "outputs": [
    {
     "name": "stdout",
     "output_type": "stream",
     "text": [
      "Cleaned Dataframe:\n",
      "                                Concatenated Paragraphs\n",
      "0     काठमाडौँ । ग्लोबल आइएमई बैंक लिमिटेड र महालक्ष...\n",
      "1     काठमाडौँ l सिद्धार्थ बैंक लिमिटेडले प्रधानमन्त...\n",
      "2     काठमाडौं l नेपालको पहिलो बैंक, नेपाल बैंक लिमि...\n",
      "3     हालका वर्षहरूमा नेपालमा अनलाइन वित्तीय ठगीका घ...\n",
      "4     रतन टाटाले गरेका थिए डुबेका कम्पनी किन्ने साहस...\n",
      "...                                                 ...\n",
      "8635  बैंकहरूमा लगभग २ खर्ब हाराहारी लगानी योग्य पुँ...\n",
      "8636  जीवन बीमा कम्पनीहरुले लघु जीवन बीमालेख बिक्री ...\n",
      "8637  जनकपुरधाम, जेठ १९ गते । आन्तरिक मिलेमतोमा नक्क...\n",
      "8638  पोखरा l ग्रीन डेभलपमेन्ट बैँकले पोखरा महानगरपा...\n",
      "8639  काठमाडौं । घोराही सिमेन्ट इन्डष्ट्रीले साधारण ...\n",
      "\n",
      "[8639 rows x 1 columns]\n"
     ]
    }
   ],
   "source": [
    "#result of data cleaning\n",
    "print(\"Cleaned Dataframe:\")\n",
    "print(df)"
   ]
  },
  {
   "cell_type": "code",
   "execution_count": 7,
   "id": "e050eb9c-c485-401e-9468-66b25f236bd1",
   "metadata": {},
   "outputs": [],
   "source": [
    "#Text normalization \n",
    "df['Concatenated Paragraphs'] = df['Concatenated Paragraphs'].str.lower()"
   ]
  },
  {
   "cell_type": "code",
   "execution_count": 8,
   "id": "550505f8-8eb8-4718-b77f-6ca72c3ce14b",
   "metadata": {},
   "outputs": [],
   "source": [
    "#removing punctuation \n",
    "import string\n",
    "df['Concatenated Paragraphs'] = df['Concatenated Paragraphs'].str.translate(str.maketrans('','',string.punctuation))"
   ]
  },
  {
   "cell_type": "code",
   "execution_count": 10,
   "id": "30f1228b-fe23-47a0-b5b5-eed7d34bb84a",
   "metadata": {},
   "outputs": [],
   "source": [
    "#Removing the stopwords\n",
    "nepali_stop_words = set([\n",
    "    'अक्सर', 'अगाडि', 'अझै', 'अनुसार', 'अन्तर्गत', 'अन्य',\n",
    "    'अन्यत्र', 'अन्यथा', 'अब', 'अरू', 'अरूलाई', 'अर्को',\n",
    "    'अर्थात', 'अर्थात्', 'अलग', 'आए', 'आजको', 'आठ',\n",
    "    'आत्म', 'आदि', 'आफू', 'आफूलाई', 'आफैलाई',\n",
    "    'आफ्नै', 'आफ्नो', 'आयो', 'उदाहरण', 'उन',\n",
    "    'उनको', 'उनले', 'उप', 'उहाँलाई', 'एउटै',\n",
    "    'एक', 'एकदम', 'औं', 'कतै', 'कम से कम',\n",
    "    'कसरी', 'कसै', 'कसैले', 'कहाँबाट',\n",
    "    'कहिलेकाहीं', 'कहिल्यै', 'कहीं',\n",
    "    'का', 'कि', 'किन',\n",
    "    'किनभने', 'कुनै',\n",
    "    'कुरा','कृपया','के','केहि','केही','को','कोही',\n",
    "    'क्रमशः','गए','गरि','गरी','गरेका','गरेको','गरेर',\n",
    "    'गरौं','गर्छ','गर्छु','गर्दै','गर्न','गर्नु',\n",
    "    'गर्नुपर्छ','गर्ने','गर्यौं','गैर','चाँडै',\n",
    "    'चार','चाले','चाहनुहुन्छ','चाहन्छु','चाहिए',\n",
    "    'छ','छन्','छु','छैन','छौँ',\n",
    "    'छौं','जताततै','जब','जबकि',\n",
    "    'जसको','जसबाट','जसमा','जसलाई',\n",
    "    'जसले','जस्तै','जस्तो','जस्तोसुकै',\n",
    "    'जहाँ','जान','जाहिर',\n",
    "    'जुन','जे','जो',\n",
    "    'ठीक','त',\n",
    "    'तत्काल','तथा',\n",
    "    'तदनुसार','तपाइँको',\n",
    "    'तपाईं','तर',\n",
    "    'तल','तापनि',\n",
    "    'तिनी','तिनीहरू',\n",
    "    'तिनीहरूको','तिनीहरूलाई',\n",
    "    'तिनीहरूले',\n",
    "    'तिमी','तिर',\n",
    "    'ती','तीन',\n",
    "    'तुरुन्तै',\n",
    "    'तेस्रो',\n",
    "    \"त्यसकारण\", \"त्यसपछि\", \"त्यसमा\", \"त्यसैले\", \"त्यहाँ\", \n",
    "    \"त्यो\", \"थिए\", \"थिएन\", \"थिएनन्\", \"थियो\", \n",
    "    \"दिए\", \"दिनुभएको\", \"दिनुहुन्छ\", \"दुई\", \"देख\", \n",
    "    \"देखि\", \"देखिन्छ\", \"देखियो\", \"देखे\", \"देखेको\",\n",
    "    \"देखेर\", \"देख्न\", \"दोश्रो\", \"दोस्रो\", \"धेरै\",\n",
    "     \"न\",\"नजिकै\",\"नत्र\",\"नयाँ\",\"नि\",\n",
    "     \"निम्ति\",\"निम्न\",\"निम्नानुसार\",\"निर्दिष्ट\",\"नै\",\n",
    "     \"नौ\",\"पक्का\",\"पक्कै\",\"पछि\",\"पछिल्लो\",\n",
    "     \"पटक\",\"पनि\",\"पर्छ\",\"पर्थ्यो\",\"पर्याप्त\",\n",
    "     \"पहिले\",\"पहिलो\",\"पहिल्यै\",\"पाँच\",\"पाँचौं\",\n",
    "     \"पूर्व\",\"प्रति\",\"प्रत्येक\",\"प्लस\",\"फेरि\",\n",
    "     \"बने\",\"बन्द\",\"बन्न\",\"बरु\",\"बाटो\",\n",
    "     \"बारे\",\"बाहिर\",\"बाहेक\",\"बीच\",\"बीचमा\",\n",
    "     \"भए\",\"भएको\",\"भन\",\"भने\",\n",
    "     \"भने्\",\"भन्छन्\",\"भन्छु\",\n",
    "     \"भन्दा\",\"भन्नुभयो\",\n",
    "     \"भन्ने\",\"भर\",\n",
    "     \"भित्र\",\"भित्री\",\n",
    "     \"म\",\"मलाई\",\n",
    "     \"मा\",\"मात्र\",\n",
    "     \"माथि\",\"मुख्य\",\n",
    "     \"मेरो\",\"यति\",\n",
    "     \"यथोचित\",\"यदि\",\n",
    "     \"यद्यपि\",\"यस\",\n",
    "     \"यसको\",\"यसपछि\",\n",
    "     \"यसबाहेक\",\"यसरी\",\n",
    "     \"यसो\",\"यस्तो\",\n",
    "     \"यहाँ\",\"यहाँसम्म\",\n",
    "     \"या\",\"यी\",\n",
    "     \"यो\",\"र\",\n",
    "     \"रही\",\"रहेका\",\n",
    "     \"रहेको\",\"राखे\",\n",
    "     \"राख्छ\",\"राम्रो\"\n",
    "])"
   ]
  },
  {
   "cell_type": "code",
   "execution_count": 11,
   "id": "e718a674-9fe3-4d1e-932f-233afde9d3d5",
   "metadata": {},
   "outputs": [
    {
     "name": "stdout",
     "output_type": "stream",
     "text": [
      "Dataframe after the stop word removal:\n",
      "                             Concatenated Paragraphs\n",
      "0  काठमाडौँ । ग्लोबल आइएमई बैंक लिमिटेड महालक्ष्म...\n",
      "1  काठमाडौँ l सिद्धार्थ बैंक लिमिटेडले प्रधानमन्त...\n",
      "2  काठमाडौं l नेपालको बैंक नेपाल बैंक लिमिटेड समा...\n",
      "3  हालका वर्षहरूमा नेपालमा अनलाइन वित्तीय ठगीका घ...\n",
      "4  रतन टाटाले डुबेका कम्पनी किन्ने साहसिक निर्णय ...\n"
     ]
    }
   ],
   "source": [
    "def remove_stop_words(text):\n",
    "    tokens = text.split()\n",
    "    return ' '.join([word for word in tokens if word not in nepali_stop_words])\n",
    "\n",
    "df['Concatenated Paragraphs'] = df['Concatenated Paragraphs'].apply(remove_stop_words)\n",
    "\n",
    "print(\"Dataframe after the stop word removal:\")\n",
    "print(df.head())"
   ]
  },
  {
   "cell_type": "code",
   "execution_count": 13,
   "id": "512f82a4-cc11-4fb7-acc4-3fb5f62ee4a0",
   "metadata": {},
   "outputs": [
    {
     "name": "stdout",
     "output_type": "stream",
     "text": [
      "Dataframe after tokenization:\n",
      "                             Concatenated Paragraphs  \\\n",
      "0  काठमाडौँ । ग्लोबल आइएमई बैंक लिमिटेड महालक्ष्म...   \n",
      "1  काठमाडौँ l सिद्धार्थ बैंक लिमिटेडले प्रधानमन्त...   \n",
      "2  काठमाडौं l नेपालको बैंक नेपाल बैंक लिमिटेड समा...   \n",
      "3  हालका वर्षहरूमा नेपालमा अनलाइन वित्तीय ठगीका घ...   \n",
      "4  रतन टाटाले डुबेका कम्पनी किन्ने साहसिक निर्णय ...   \n",
      "\n",
      "                                      tokenized_text  \n",
      "0  [काठमाडौँ, ।, ग्लोबल, आइएमई, बैंक, लिमिटेड, मह...  \n",
      "1  [काठमाडौँ, l, सिद्धार्थ, बैंक, लिमिटेडले, प्रध...  \n",
      "2  [काठमाडौं, l, नेपालको, बैंक, नेपाल, बैंक, लिमि...  \n",
      "3  [हालका, वर्षहरूमा, नेपालमा, अनलाइन, वित्तीय, ठ...  \n",
      "4  [रतन, टाटाले, डुबेका, कम्पनी, किन्ने, साहसिक, ...  \n"
     ]
    }
   ],
   "source": [
    "#tokenization \n",
    "def tokenize_text(text):\n",
    "    tokens = text.split()\n",
    "    return tokens\n",
    "df['tokenized_text'] = df['Concatenated Paragraphs'].apply(tokenize_text)\n",
    "\n",
    "print(\"Dataframe after tokenization:\")\n",
    "print(df[['Concatenated Paragraphs', 'tokenized_text']].head())\n",
    "\n",
    "df.to_csv('C:/Users/Anuz/OneDrive/Desktop/excel work/Tokenized_dataset.csv', index=False)"
   ]
  },
  {
   "cell_type": "code",
   "execution_count": null,
   "id": "35d85cfe-3465-4494-bf65-ad583183f3eb",
   "metadata": {},
   "outputs": [],
   "source": []
  }
 ],
 "metadata": {
  "kernelspec": {
   "display_name": "Python 3 (ipykernel)",
   "language": "python",
   "name": "python3"
  },
  "language_info": {
   "codemirror_mode": {
    "name": "ipython",
    "version": 3
   },
   "file_extension": ".py",
   "mimetype": "text/x-python",
   "name": "python",
   "nbconvert_exporter": "python",
   "pygments_lexer": "ipython3",
   "version": "3.12.3"
  }
 },
 "nbformat": 4,
 "nbformat_minor": 5
}
