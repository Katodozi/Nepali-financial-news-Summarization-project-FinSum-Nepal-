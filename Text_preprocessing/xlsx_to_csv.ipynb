{
 "cells": [
  {
   "cell_type": "code",
   "execution_count": 1,
   "id": "8e2b784d-3062-497e-8e24-a9fd896514f6",
   "metadata": {},
   "outputs": [],
   "source": [
    "#TEXT PREPROCESSING"
   ]
  },
  {
   "cell_type": "code",
   "execution_count": 2,
   "id": "2193fce3-4f4b-4951-8168-e615a1fcd679",
   "metadata": {},
   "outputs": [],
   "source": [
    "#first let's convert our xlsx file of data into the csv file format using panda \n",
    "import pandas as pd "
   ]
  },
  {
   "cell_type": "code",
   "execution_count": 8,
   "id": "b845fb10-f9a9-4264-9ee8-04acdc179b54",
   "metadata": {},
   "outputs": [],
   "source": [
    "df = pd.read_excel(\"C:/Users/Anuz/OneDrive/Desktop/excel work/The_final_ready_Nepali_financial_data.xlsx\")"
   ]
  },
  {
   "cell_type": "code",
   "execution_count": 10,
   "id": "fdec1448-5227-41a6-96b4-4de801a54485",
   "metadata": {},
   "outputs": [
    {
     "name": "stdout",
     "output_type": "stream",
     "text": [
      "Conversion complete: CSV file created!!\n"
     ]
    }
   ],
   "source": [
    "df.to_csv(\"C:/Users/Anuz/OneDrive/Desktop/excel work/The_final_ready_Nepali_financial_data.csv\", index=False, header=True)\n",
    "print(\"Conversion complete: CSV file created!!\")"
   ]
  },
  {
   "cell_type": "code",
   "execution_count": null,
   "id": "b2e120b0-823b-48a9-a7e7-e53abdc4378c",
   "metadata": {},
   "outputs": [],
   "source": []
  }
 ],
 "metadata": {
  "kernelspec": {
   "display_name": "Python 3 (ipykernel)",
   "language": "python",
   "name": "python3"
  },
  "language_info": {
   "codemirror_mode": {
    "name": "ipython",
    "version": 3
   },
   "file_extension": ".py",
   "mimetype": "text/x-python",
   "name": "python",
   "nbconvert_exporter": "python",
   "pygments_lexer": "ipython3",
   "version": "3.12.3"
  }
 },
 "nbformat": 4,
 "nbformat_minor": 5
}
